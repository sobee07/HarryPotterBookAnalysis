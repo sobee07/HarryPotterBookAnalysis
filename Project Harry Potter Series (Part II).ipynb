{
 "cells": [
  {
   "cell_type": "markdown",
   "metadata": {},
   "source": [
    "# Introduction\n",
    "In Part I, you collected the data necessary for the project. \n",
    "\n",
    "In this Part, you'll start data analysis proper! More specifically, you will:\n",
    "- explore the dataset\n",
    "- generate metrics from the texts\n",
    "- compare the metrics\n",
    "- tell data stories\n",
    "\n",
    "The kinds of metrics we're using are exciting, ranging from simple ones such as length and number of sentences, to more complex measures such as readability. \n",
    "\n",
    "Useful readings on visualization: \n",
    "<a href = \"https://towardsdatascience.com/introduction-to-data-visualization-in-python-89a54c97fbed\">Introduction to Data Visualization in Python</a> (run it in Incognito Mode if you face the paywall)\n",
    "\n",
    "It's quite comprehensive and a useful guide for this Part if you're new to visualization.\n",
    "\n",
    "### Step 1: Import (and install) libraries\n",
    "Let's start with importing the libraries that we need:\n",
    "- pandas as pd\n",
    "- matplotlib.pyplot\n",
    "- string\n",
    "\n",
    "You <em>might</em> need to install the following libraries if you've never done so:\n",
    "- wordcloud\n",
    "- vaderSentiment\n",
    "- sent_tokenize, word_tokenize from nltk\n",
    "- textstat"
   ]
  },
  {
   "cell_type": "code",
   "execution_count": 1,
   "metadata": {},
   "outputs": [],
   "source": [
    "# Step 1: Import libraries"
   ]
  },
  {
   "cell_type": "code",
   "execution_count": 35,
   "metadata": {},
   "outputs": [],
   "source": [
    "import pandas as pd\n",
    "import matplotlib.pyplot as plt\n",
    "import string \n",
    "import nltk\n",
    "from wordcloud import WordCloud\n",
    "import vaderSentiment\n",
    "import textstat\n",
    "from nltk import  sent_tokenize, word_tokenize"
   ]
  },
  {
   "cell_type": "markdown",
   "metadata": {},
   "source": [
    "### Step 2: Read CSV from Part I\n",
    "Let's read the CSV that we have obtained from Part I. Your DataFrame should look something like this:\n",
    "\n",
    "![PartIDataFrame](https://uplevelsg.s3-ap-southeast-1.amazonaws.com/ProjectHarryPotter/PartIDataFrame.png)"
   ]
  },
  {
   "cell_type": "code",
   "execution_count": null,
   "metadata": {},
   "outputs": [],
   "source": [
    "# Step 2: Read your Part I CSV into a DataFrame"
   ]
  },
  {
   "cell_type": "code",
   "execution_count": 36,
   "metadata": {},
   "outputs": [],
   "source": [
    "df=pd.read_csv('cleaned_harry_potter.csv') "
   ]
  },
  {
   "cell_type": "code",
   "execution_count": 37,
   "metadata": {},
   "outputs": [
    {
     "data": {
      "text/html": [
       "<div>\n",
       "<style scoped>\n",
       "    .dataframe tbody tr th:only-of-type {\n",
       "        vertical-align: middle;\n",
       "    }\n",
       "\n",
       "    .dataframe tbody tr th {\n",
       "        vertical-align: top;\n",
       "    }\n",
       "\n",
       "    .dataframe thead th {\n",
       "        text-align: right;\n",
       "    }\n",
       "</style>\n",
       "<table border=\"1\" class=\"dataframe\">\n",
       "  <thead>\n",
       "    <tr style=\"text-align: right;\">\n",
       "      <th></th>\n",
       "      <th>name</th>\n",
       "      <th>full_text</th>\n",
       "    </tr>\n",
       "  </thead>\n",
       "  <tbody>\n",
       "    <tr>\n",
       "      <th>0</th>\n",
       "      <td>Harry Potter and the Sorcerer's Stone</td>\n",
       "      <td>Harry Potter and the Sorcerer's Stone CHAPTER ...</td>\n",
       "    </tr>\n",
       "    <tr>\n",
       "      <th>1</th>\n",
       "      <td>Harry Potter and The Chamber of Secrets</td>\n",
       "      <td>J . K . R O W L ! N G   HARRY   POTTER      /...</td>\n",
       "    </tr>\n",
       "    <tr>\n",
       "      <th>2</th>\n",
       "      <td>Harry Potter and the Prisoner of Azkaban</td>\n",
       "      <td>Harry Potter and the Prisoner of Azkaban   by ...</td>\n",
       "    </tr>\n",
       "    <tr>\n",
       "      <th>3</th>\n",
       "      <td>Harry Potter and the Goblet of Fire</td>\n",
       "      <td>Harry Potter and the Goblet of Fire   By J.K. ...</td>\n",
       "    </tr>\n",
       "    <tr>\n",
       "      <th>4</th>\n",
       "      <td>Harry Potter and the Order of the Phoenix</td>\n",
       "      <td>Harry Potter and the Order of the Phoenix J K ...</td>\n",
       "    </tr>\n",
       "    <tr>\n",
       "      <th>5</th>\n",
       "      <td>Harry Potter and The Half-Blood Prince</td>\n",
       "      <td>Harry Potter and The Half-Blood Prince  Chapte...</td>\n",
       "    </tr>\n",
       "    <tr>\n",
       "      <th>6</th>\n",
       "      <td>Harry Potter and the Deathly Hallows</td>\n",
       "      <td>Harry Potter and the Deathly Hallows  By J. K....</td>\n",
       "    </tr>\n",
       "  </tbody>\n",
       "</table>\n",
       "</div>"
      ],
      "text/plain": [
       "                                        name  \\\n",
       "0      Harry Potter and the Sorcerer's Stone   \n",
       "1    Harry Potter and The Chamber of Secrets   \n",
       "2   Harry Potter and the Prisoner of Azkaban   \n",
       "3        Harry Potter and the Goblet of Fire   \n",
       "4  Harry Potter and the Order of the Phoenix   \n",
       "5     Harry Potter and The Half-Blood Prince   \n",
       "6       Harry Potter and the Deathly Hallows   \n",
       "\n",
       "                                           full_text  \n",
       "0  Harry Potter and the Sorcerer's Stone CHAPTER ...  \n",
       "1   J . K . R O W L ! N G   HARRY   POTTER      /...  \n",
       "2  Harry Potter and the Prisoner of Azkaban   by ...  \n",
       "3  Harry Potter and the Goblet of Fire   By J.K. ...  \n",
       "4  Harry Potter and the Order of the Phoenix J K ...  \n",
       "5  Harry Potter and The Half-Blood Prince  Chapte...  \n",
       "6  Harry Potter and the Deathly Hallows  By J. K....  "
      ]
     },
     "execution_count": 37,
     "metadata": {},
     "output_type": "execute_result"
    }
   ],
   "source": [
    "df"
   ]
  },
  {
   "cell_type": "markdown",
   "metadata": {},
   "source": [
    "## Generating metrics\n",
    "In this section, we'll start creating some metrics that we can use for visualization and comparison later. \n",
    "\n",
    "### Step 3: Get the character length of the texts\n",
    "How many characters are there in each text? Create a column named \"char_length\" that contains it.\n",
    "\n",
    "![CharLengthColumn](https://uplevelsg.s3-ap-southeast-1.amazonaws.com/ProjectHarryPotter/CharLengthColumn.png)\n",
    "\n",
    "This can be done using the <font color=\"green\">len</font> function. Hopefully the numbers are similar to ours, but don't worry if you're off by 1%. "
   ]
  },
  {
   "cell_type": "code",
   "execution_count": null,
   "metadata": {},
   "outputs": [],
   "source": [
    "# Step 3: Create 'char_length' column"
   ]
  },
  {
   "cell_type": "code",
   "execution_count": 38,
   "metadata": {},
   "outputs": [],
   "source": [
    "df['char_length']= df['full_text'].apply(len)"
   ]
  },
  {
   "cell_type": "code",
   "execution_count": 39,
   "metadata": {},
   "outputs": [
    {
     "data": {
      "text/html": [
       "<div>\n",
       "<style scoped>\n",
       "    .dataframe tbody tr th:only-of-type {\n",
       "        vertical-align: middle;\n",
       "    }\n",
       "\n",
       "    .dataframe tbody tr th {\n",
       "        vertical-align: top;\n",
       "    }\n",
       "\n",
       "    .dataframe thead th {\n",
       "        text-align: right;\n",
       "    }\n",
       "</style>\n",
       "<table border=\"1\" class=\"dataframe\">\n",
       "  <thead>\n",
       "    <tr style=\"text-align: right;\">\n",
       "      <th></th>\n",
       "      <th>name</th>\n",
       "      <th>full_text</th>\n",
       "      <th>char_length</th>\n",
       "    </tr>\n",
       "  </thead>\n",
       "  <tbody>\n",
       "    <tr>\n",
       "      <th>0</th>\n",
       "      <td>Harry Potter and the Sorcerer's Stone</td>\n",
       "      <td>Harry Potter and the Sorcerer's Stone CHAPTER ...</td>\n",
       "      <td>437562</td>\n",
       "    </tr>\n",
       "    <tr>\n",
       "      <th>1</th>\n",
       "      <td>Harry Potter and The Chamber of Secrets</td>\n",
       "      <td>J . K . R O W L ! N G   HARRY   POTTER      /...</td>\n",
       "      <td>507952</td>\n",
       "    </tr>\n",
       "    <tr>\n",
       "      <th>2</th>\n",
       "      <td>Harry Potter and the Prisoner of Azkaban</td>\n",
       "      <td>Harry Potter and the Prisoner of Azkaban   by ...</td>\n",
       "      <td>615711</td>\n",
       "    </tr>\n",
       "    <tr>\n",
       "      <th>3</th>\n",
       "      <td>Harry Potter and the Goblet of Fire</td>\n",
       "      <td>Harry Potter and the Goblet of Fire   By J.K. ...</td>\n",
       "      <td>1113443</td>\n",
       "    </tr>\n",
       "    <tr>\n",
       "      <th>4</th>\n",
       "      <td>Harry Potter and the Order of the Phoenix</td>\n",
       "      <td>Harry Potter and the Order of the Phoenix J K ...</td>\n",
       "      <td>1524926</td>\n",
       "    </tr>\n",
       "    <tr>\n",
       "      <th>5</th>\n",
       "      <td>Harry Potter and The Half-Blood Prince</td>\n",
       "      <td>Harry Potter and The Half-Blood Prince  Chapte...</td>\n",
       "      <td>991870</td>\n",
       "    </tr>\n",
       "    <tr>\n",
       "      <th>6</th>\n",
       "      <td>Harry Potter and the Deathly Hallows</td>\n",
       "      <td>Harry Potter and the Deathly Hallows  By J. K....</td>\n",
       "      <td>1161885</td>\n",
       "    </tr>\n",
       "  </tbody>\n",
       "</table>\n",
       "</div>"
      ],
      "text/plain": [
       "                                        name  \\\n",
       "0      Harry Potter and the Sorcerer's Stone   \n",
       "1    Harry Potter and The Chamber of Secrets   \n",
       "2   Harry Potter and the Prisoner of Azkaban   \n",
       "3        Harry Potter and the Goblet of Fire   \n",
       "4  Harry Potter and the Order of the Phoenix   \n",
       "5     Harry Potter and The Half-Blood Prince   \n",
       "6       Harry Potter and the Deathly Hallows   \n",
       "\n",
       "                                           full_text  char_length  \n",
       "0  Harry Potter and the Sorcerer's Stone CHAPTER ...       437562  \n",
       "1   J . K . R O W L ! N G   HARRY   POTTER      /...       507952  \n",
       "2  Harry Potter and the Prisoner of Azkaban   by ...       615711  \n",
       "3  Harry Potter and the Goblet of Fire   By J.K. ...      1113443  \n",
       "4  Harry Potter and the Order of the Phoenix J K ...      1524926  \n",
       "5  Harry Potter and The Half-Blood Prince  Chapte...       991870  \n",
       "6  Harry Potter and the Deathly Hallows  By J. K....      1161885  "
      ]
     },
     "execution_count": 39,
     "metadata": {},
     "output_type": "execute_result"
    }
   ],
   "source": [
    "df"
   ]
  },
  {
   "cell_type": "markdown",
   "metadata": {},
   "source": [
    "### Step 4: Get the number of words in the text\n",
    "Let's calculate the number of words in the text. To do this, we can use the word_tokenize function from nltk. \n",
    "\n",
    "word_tokenize turns a string into a list containing individual words, which makes it perfect for the job. \n",
    "\n",
    "You can then use len on that list of individual words to get the number of words in each text.\n",
    "\n",
    "![WordLengthColumn](https://uplevelsg.s3-ap-southeast-1.amazonaws.com/ProjectHarryPotter/WordLengthColumn.png)"
   ]
  },
  {
   "cell_type": "code",
   "execution_count": null,
   "metadata": {},
   "outputs": [],
   "source": [
    "# Step 4: Create \"word_length\" column"
   ]
  },
  {
   "cell_type": "code",
   "execution_count": 40,
   "metadata": {},
   "outputs": [],
   "source": [
    "from nltk.tokenize import word_tokenize"
   ]
  },
  {
   "cell_type": "code",
   "execution_count": 9,
   "metadata": {},
   "outputs": [
    {
     "name": "stderr",
     "output_type": "stream",
     "text": [
      "[nltk_data] Downloading package punkt to\n",
      "[nltk_data]     C:\\Users\\ssur\\AppData\\Roaming\\nltk_data...\n",
      "[nltk_data]   Unzipping tokenizers\\punkt.zip.\n"
     ]
    },
    {
     "data": {
      "text/plain": [
       "True"
      ]
     },
     "execution_count": 9,
     "metadata": {},
     "output_type": "execute_result"
    }
   ],
   "source": [
    "nltk.download('punkt')"
   ]
  },
  {
   "cell_type": "code",
   "execution_count": 41,
   "metadata": {},
   "outputs": [],
   "source": [
    "df['word_length']= df['full_text'].apply(word_tokenize).apply(len)"
   ]
  },
  {
   "cell_type": "code",
   "execution_count": 42,
   "metadata": {},
   "outputs": [
    {
     "data": {
      "text/html": [
       "<div>\n",
       "<style scoped>\n",
       "    .dataframe tbody tr th:only-of-type {\n",
       "        vertical-align: middle;\n",
       "    }\n",
       "\n",
       "    .dataframe tbody tr th {\n",
       "        vertical-align: top;\n",
       "    }\n",
       "\n",
       "    .dataframe thead th {\n",
       "        text-align: right;\n",
       "    }\n",
       "</style>\n",
       "<table border=\"1\" class=\"dataframe\">\n",
       "  <thead>\n",
       "    <tr style=\"text-align: right;\">\n",
       "      <th></th>\n",
       "      <th>name</th>\n",
       "      <th>full_text</th>\n",
       "      <th>char_length</th>\n",
       "      <th>word_length</th>\n",
       "    </tr>\n",
       "  </thead>\n",
       "  <tbody>\n",
       "    <tr>\n",
       "      <th>0</th>\n",
       "      <td>Harry Potter and the Sorcerer's Stone</td>\n",
       "      <td>Harry Potter and the Sorcerer's Stone CHAPTER ...</td>\n",
       "      <td>437562</td>\n",
       "      <td>99030</td>\n",
       "    </tr>\n",
       "    <tr>\n",
       "      <th>1</th>\n",
       "      <td>Harry Potter and The Chamber of Secrets</td>\n",
       "      <td>J . K . R O W L ! N G   HARRY   POTTER      /...</td>\n",
       "      <td>507952</td>\n",
       "      <td>112008</td>\n",
       "    </tr>\n",
       "    <tr>\n",
       "      <th>2</th>\n",
       "      <td>Harry Potter and the Prisoner of Azkaban</td>\n",
       "      <td>Harry Potter and the Prisoner of Azkaban   by ...</td>\n",
       "      <td>615711</td>\n",
       "      <td>135029</td>\n",
       "    </tr>\n",
       "    <tr>\n",
       "      <th>3</th>\n",
       "      <td>Harry Potter and the Goblet of Fire</td>\n",
       "      <td>Harry Potter and the Goblet of Fire   By J.K. ...</td>\n",
       "      <td>1113443</td>\n",
       "      <td>243895</td>\n",
       "    </tr>\n",
       "    <tr>\n",
       "      <th>4</th>\n",
       "      <td>Harry Potter and the Order of the Phoenix</td>\n",
       "      <td>Harry Potter and the Order of the Phoenix J K ...</td>\n",
       "      <td>1524926</td>\n",
       "      <td>322422</td>\n",
       "    </tr>\n",
       "    <tr>\n",
       "      <th>5</th>\n",
       "      <td>Harry Potter and The Half-Blood Prince</td>\n",
       "      <td>Harry Potter and The Half-Blood Prince  Chapte...</td>\n",
       "      <td>991870</td>\n",
       "      <td>217802</td>\n",
       "    </tr>\n",
       "    <tr>\n",
       "      <th>6</th>\n",
       "      <td>Harry Potter and the Deathly Hallows</td>\n",
       "      <td>Harry Potter and the Deathly Hallows  By J. K....</td>\n",
       "      <td>1161885</td>\n",
       "      <td>253196</td>\n",
       "    </tr>\n",
       "  </tbody>\n",
       "</table>\n",
       "</div>"
      ],
      "text/plain": [
       "                                        name  \\\n",
       "0      Harry Potter and the Sorcerer's Stone   \n",
       "1    Harry Potter and The Chamber of Secrets   \n",
       "2   Harry Potter and the Prisoner of Azkaban   \n",
       "3        Harry Potter and the Goblet of Fire   \n",
       "4  Harry Potter and the Order of the Phoenix   \n",
       "5     Harry Potter and The Half-Blood Prince   \n",
       "6       Harry Potter and the Deathly Hallows   \n",
       "\n",
       "                                           full_text  char_length  word_length  \n",
       "0  Harry Potter and the Sorcerer's Stone CHAPTER ...       437562        99030  \n",
       "1   J . K . R O W L ! N G   HARRY   POTTER      /...       507952       112008  \n",
       "2  Harry Potter and the Prisoner of Azkaban   by ...       615711       135029  \n",
       "3  Harry Potter and the Goblet of Fire   By J.K. ...      1113443       243895  \n",
       "4  Harry Potter and the Order of the Phoenix J K ...      1524926       322422  \n",
       "5  Harry Potter and The Half-Blood Prince  Chapte...       991870       217802  \n",
       "6  Harry Potter and the Deathly Hallows  By J. K....      1161885       253196  "
      ]
     },
     "execution_count": 42,
     "metadata": {},
     "output_type": "execute_result"
    }
   ],
   "source": [
    "df"
   ]
  },
  {
   "cell_type": "markdown",
   "metadata": {},
   "source": [
    "### Step 5: Get the number of sentences in the text\n",
    "Now that we've done the number of characters and words, next we will calculate the sentence length.\n",
    "\n",
    "Create a column called \"sentence_length\", containing the number of sentences in a particular text.\n",
    "\n",
    "nltk's sent_tokenize is perfect for the job, turning a string into a list containing sentences. \n",
    "\n",
    "Get the length of the list - that is the number of sentences in the text.\n",
    "\n",
    "![SentenceLengthColumn](https://uplevelsg.s3-ap-southeast-1.amazonaws.com/ProjectHarryPotter/SentenceLengthColumn.png)"
   ]
  },
  {
   "cell_type": "code",
   "execution_count": null,
   "metadata": {},
   "outputs": [],
   "source": [
    "# Step 5: Create 'sentence_length' column"
   ]
  },
  {
   "cell_type": "code",
   "execution_count": 43,
   "metadata": {},
   "outputs": [],
   "source": [
    "df['sentence_length']= df['full_text'].apply(sent_tokenize).apply(len)"
   ]
  },
  {
   "cell_type": "code",
   "execution_count": 44,
   "metadata": {},
   "outputs": [
    {
     "data": {
      "text/html": [
       "<div>\n",
       "<style scoped>\n",
       "    .dataframe tbody tr th:only-of-type {\n",
       "        vertical-align: middle;\n",
       "    }\n",
       "\n",
       "    .dataframe tbody tr th {\n",
       "        vertical-align: top;\n",
       "    }\n",
       "\n",
       "    .dataframe thead th {\n",
       "        text-align: right;\n",
       "    }\n",
       "</style>\n",
       "<table border=\"1\" class=\"dataframe\">\n",
       "  <thead>\n",
       "    <tr style=\"text-align: right;\">\n",
       "      <th></th>\n",
       "      <th>name</th>\n",
       "      <th>full_text</th>\n",
       "      <th>char_length</th>\n",
       "      <th>word_length</th>\n",
       "      <th>sentence_length</th>\n",
       "    </tr>\n",
       "  </thead>\n",
       "  <tbody>\n",
       "    <tr>\n",
       "      <th>0</th>\n",
       "      <td>Harry Potter and the Sorcerer's Stone</td>\n",
       "      <td>Harry Potter and the Sorcerer's Stone CHAPTER ...</td>\n",
       "      <td>437562</td>\n",
       "      <td>99030</td>\n",
       "      <td>6394</td>\n",
       "    </tr>\n",
       "    <tr>\n",
       "      <th>1</th>\n",
       "      <td>Harry Potter and The Chamber of Secrets</td>\n",
       "      <td>J . K . R O W L ! N G   HARRY   POTTER      /...</td>\n",
       "      <td>507952</td>\n",
       "      <td>112008</td>\n",
       "      <td>5446</td>\n",
       "    </tr>\n",
       "    <tr>\n",
       "      <th>2</th>\n",
       "      <td>Harry Potter and the Prisoner of Azkaban</td>\n",
       "      <td>Harry Potter and the Prisoner of Azkaban   by ...</td>\n",
       "      <td>615711</td>\n",
       "      <td>135029</td>\n",
       "      <td>8582</td>\n",
       "    </tr>\n",
       "    <tr>\n",
       "      <th>3</th>\n",
       "      <td>Harry Potter and the Goblet of Fire</td>\n",
       "      <td>Harry Potter and the Goblet of Fire   By J.K. ...</td>\n",
       "      <td>1113443</td>\n",
       "      <td>243895</td>\n",
       "      <td>17521</td>\n",
       "    </tr>\n",
       "    <tr>\n",
       "      <th>4</th>\n",
       "      <td>Harry Potter and the Order of the Phoenix</td>\n",
       "      <td>Harry Potter and the Order of the Phoenix J K ...</td>\n",
       "      <td>1524926</td>\n",
       "      <td>322422</td>\n",
       "      <td>22688</td>\n",
       "    </tr>\n",
       "    <tr>\n",
       "      <th>5</th>\n",
       "      <td>Harry Potter and The Half-Blood Prince</td>\n",
       "      <td>Harry Potter and The Half-Blood Prince  Chapte...</td>\n",
       "      <td>991870</td>\n",
       "      <td>217802</td>\n",
       "      <td>13733</td>\n",
       "    </tr>\n",
       "    <tr>\n",
       "      <th>6</th>\n",
       "      <td>Harry Potter and the Deathly Hallows</td>\n",
       "      <td>Harry Potter and the Deathly Hallows  By J. K....</td>\n",
       "      <td>1161885</td>\n",
       "      <td>253196</td>\n",
       "      <td>13166</td>\n",
       "    </tr>\n",
       "  </tbody>\n",
       "</table>\n",
       "</div>"
      ],
      "text/plain": [
       "                                        name  \\\n",
       "0      Harry Potter and the Sorcerer's Stone   \n",
       "1    Harry Potter and The Chamber of Secrets   \n",
       "2   Harry Potter and the Prisoner of Azkaban   \n",
       "3        Harry Potter and the Goblet of Fire   \n",
       "4  Harry Potter and the Order of the Phoenix   \n",
       "5     Harry Potter and The Half-Blood Prince   \n",
       "6       Harry Potter and the Deathly Hallows   \n",
       "\n",
       "                                           full_text  char_length  \\\n",
       "0  Harry Potter and the Sorcerer's Stone CHAPTER ...       437562   \n",
       "1   J . K . R O W L ! N G   HARRY   POTTER      /...       507952   \n",
       "2  Harry Potter and the Prisoner of Azkaban   by ...       615711   \n",
       "3  Harry Potter and the Goblet of Fire   By J.K. ...      1113443   \n",
       "4  Harry Potter and the Order of the Phoenix J K ...      1524926   \n",
       "5  Harry Potter and The Half-Blood Prince  Chapte...       991870   \n",
       "6  Harry Potter and the Deathly Hallows  By J. K....      1161885   \n",
       "\n",
       "   word_length  sentence_length  \n",
       "0        99030             6394  \n",
       "1       112008             5446  \n",
       "2       135029             8582  \n",
       "3       243895            17521  \n",
       "4       322422            22688  \n",
       "5       217802            13733  \n",
       "6       253196            13166  "
      ]
     },
     "execution_count": 44,
     "metadata": {},
     "output_type": "execute_result"
    }
   ],
   "source": [
    "df"
   ]
  },
  {
   "cell_type": "markdown",
   "metadata": {},
   "source": [
    "### Step 6: Plot \"char_length\" with a barplot\n",
    "Let's see how long each book is, in terms of letters/string characters. \n",
    "\n",
    "Plot a barplot illustrating the number of string characters in each book.\n",
    "\n",
    "When plotting the barplot, consider using a list containing numbers 1 to 7 as your x-axis. "
   ]
  },
  {
   "cell_type": "markdown",
   "metadata": {},
   "source": [
    "<details>\n",
    "    <summary><strong>Click once to see our plot</strong></summary>\n",
    "    <img src = \"https://uplevelsg.s3-ap-southeast-1.amazonaws.com/ProjectHarryPotter/CharLengthBarplot.png\">\n",
    "</details>"
   ]
  },
  {
   "cell_type": "code",
   "execution_count": null,
   "metadata": {},
   "outputs": [],
   "source": [
    "# Step 6: Plot \"char_length\" with barplot"
   ]
  },
  {
   "cell_type": "code",
   "execution_count": 54,
   "metadata": {},
   "outputs": [
    {
     "data": {
      "image/png": "[encoded data removed]",
      "text/plain": [
       "<Figure size 1152x576 with 1 Axes>"
      ]
     },
     "metadata": {
      "needs_background": "light"
     },
     "output_type": "display_data"
    }
   ],
   "source": [
    "plt.figure(figsize=(16, 8))\n",
    "ax = df['char_length'].plot(kind='bar' ,rot=0)\n",
    "ax.set_title('Number of letters vs book')\n",
    "ax.set_xlabel('Book Number')\n",
    "ax.set_ylabel('Number of letters')\n",
    "ax.set_xticklabels(x_labels)\n",
    "plt.show()"
   ]
  },
  {
   "cell_type": "markdown",
   "metadata": {},
   "source": [
    "### Step 7: Plot 'word_length' with barplot\n",
    "Similarly, let's see if the pattern is the same with word_length. \n",
    "\n",
    "Plot a barplot with word_length."
   ]
  },
  {
   "cell_type": "code",
   "execution_count": null,
   "metadata": {},
   "outputs": [],
   "source": [
    "# Step 7: Plot \"word_length\" with barplot"
   ]
  },
  {
   "cell_type": "code",
   "execution_count": 56,
   "metadata": {},
   "outputs": [
    {
     "data": {
      "image/png": "[encoded data removed]",
      "text/plain": [
       "<Figure size 1152x576 with 1 Axes>"
      ]
     },
     "metadata": {
      "needs_background": "light"
     },
     "output_type": "display_data"
    }
   ],
   "source": [
    "plt.figure(figsize=(16, 8))\n",
    "ax = df['word_length'].plot(kind='bar' ,rot=0)\n",
    "ax.set_title('Number of words vs book')\n",
    "ax.set_xlabel('Book Number')\n",
    "ax.set_ylabel('Number of words')\n",
    "ax.set_xticklabels(x_labels)\n",
    "plt.show()"
   ]
  },
  {
   "cell_type": "markdown",
   "metadata": {},
   "source": [
    "<details>\n",
    "    <summary><strong>Click once to see our plot</strong></summary>\n",
    "    <img src = \"https://uplevelsg.s3-ap-southeast-1.amazonaws.com/ProjectHarryPotter/WordLengthBarplot.png\">\n",
    "</details>"
   ]
  },
  {
   "cell_type": "markdown",
   "metadata": {},
   "source": [
    "### Step 8: Plot sentence_length with a barplot\n",
    "Wow ok the pattern between char_length and word_length is identical. Let's see if we observe the same thing as well with sentence_length. \n",
    "\n",
    "Plot sentence_length as a barplot."
   ]
  },
  {
   "cell_type": "code",
   "execution_count": null,
   "metadata": {},
   "outputs": [],
   "source": [
    "# Step 8: Plot \"sentence_length\" with barplot"
   ]
  },
  {
   "cell_type": "code",
   "execution_count": 58,
   "metadata": {},
   "outputs": [
    {
     "data": {
      "image/png": "[encoded data removed]",
      "text/plain": [
       "<Figure size 1152x576 with 1 Axes>"
      ]
     },
     "metadata": {
      "needs_background": "light"
     },
     "output_type": "display_data"
    }
   ],
   "source": [
    "plt.figure(figsize=(16, 8))\n",
    "ax = df['sentence_length'].plot(kind='bar' ,rot=0)\n",
    "ax.set_title('Number of sentences vs book')\n",
    "ax.set_xlabel('Book Number')\n",
    "ax.set_ylabel('Number of sentences')\n",
    "ax.set_xticklabels(x_labels)\n",
    "plt.show()"
   ]
  },
  {
   "cell_type": "markdown",
   "metadata": {},
   "source": [
    "<details>\n",
    "    <summary><strong>Click once to see our plot</strong></summary>\n",
    "    <img src = \"https://uplevelsg.s3-ap-southeast-1.amazonaws.com/ProjectHarryPotter/SentenceLengthBarplot.png\">\n",
    "</details>\n",
    "<br>\n",
    "<details>\n",
    "    <summary><strong>What do you observe about the series with respect to char, word, and sentence length? Click once to see what we think</strong></summary>\n",
    "    <ul>\n",
    "        <li>char_length and word_length barplots are similar</li>\n",
    "        <li>char_length/word_length barplots are different from sentence_length</li>\n",
    "    </ul>\n",
    "</details>"
   ]
  },
  {
   "cell_type": "markdown",
   "metadata": {},
   "source": [
    "### Step 9: Create 'word_per_sentence' column\n",
    "Measuring and plotting absolute numbers are but one part of the story. \n",
    "\n",
    "We will continue our analysis by creating a new column called word_per_sentence, where \n",
    "\n",
    "$word\\_per\\_sentence = word\\_length \\div sentence\\_length$"
   ]
  },
  {
   "cell_type": "code",
   "execution_count": null,
   "metadata": {},
   "outputs": [],
   "source": [
    "# Step 9: Create \"word_per_sentence\" column"
   ]
  },
  {
   "cell_type": "code",
   "execution_count": 62,
   "metadata": {},
   "outputs": [],
   "source": [
    "df['word_per_sentence']=df['word_length']/df['sentence_length']"
   ]
  },
  {
   "cell_type": "code",
   "execution_count": 63,
   "metadata": {},
   "outputs": [
    {
     "data": {
      "text/html": [
       "<div>\n",
       "<style scoped>\n",
       "    .dataframe tbody tr th:only-of-type {\n",
       "        vertical-align: middle;\n",
       "    }\n",
       "\n",
       "    .dataframe tbody tr th {\n",
       "        vertical-align: top;\n",
       "    }\n",
       "\n",
       "    .dataframe thead th {\n",
       "        text-align: right;\n",
       "    }\n",
       "</style>\n",
       "<table border=\"1\" class=\"dataframe\">\n",
       "  <thead>\n",
       "    <tr style=\"text-align: right;\">\n",
       "      <th></th>\n",
       "      <th>name</th>\n",
       "      <th>full_text</th>\n",
       "      <th>char_length</th>\n",
       "      <th>word_length</th>\n",
       "      <th>sentence_length</th>\n",
       "      <th>word_per_sentence</th>\n",
       "    </tr>\n",
       "  </thead>\n",
       "  <tbody>\n",
       "    <tr>\n",
       "      <th>0</th>\n",
       "      <td>Harry Potter and the Sorcerer's Stone</td>\n",
       "      <td>Harry Potter and the Sorcerer's Stone CHAPTER ...</td>\n",
       "      <td>437562</td>\n",
       "      <td>99030</td>\n",
       "      <td>6394</td>\n",
       "      <td>15.487957</td>\n",
       "    </tr>\n",
       "    <tr>\n",
       "      <th>1</th>\n",
       "      <td>Harry Potter and The Chamber of Secrets</td>\n",
       "      <td>J . K . R O W L ! N G   HARRY   POTTER      /...</td>\n",
       "      <td>507952</td>\n",
       "      <td>112008</td>\n",
       "      <td>5446</td>\n",
       "      <td>20.567022</td>\n",
       "    </tr>\n",
       "    <tr>\n",
       "      <th>2</th>\n",
       "      <td>Harry Potter and the Prisoner of Azkaban</td>\n",
       "      <td>Harry Potter and the Prisoner of Azkaban   by ...</td>\n",
       "      <td>615711</td>\n",
       "      <td>135029</td>\n",
       "      <td>8582</td>\n",
       "      <td>15.733978</td>\n",
       "    </tr>\n",
       "    <tr>\n",
       "      <th>3</th>\n",
       "      <td>Harry Potter and the Goblet of Fire</td>\n",
       "      <td>Harry Potter and the Goblet of Fire   By J.K. ...</td>\n",
       "      <td>1113443</td>\n",
       "      <td>243895</td>\n",
       "      <td>17521</td>\n",
       "      <td>13.920153</td>\n",
       "    </tr>\n",
       "    <tr>\n",
       "      <th>4</th>\n",
       "      <td>Harry Potter and the Order of the Phoenix</td>\n",
       "      <td>Harry Potter and the Order of the Phoenix J K ...</td>\n",
       "      <td>1524926</td>\n",
       "      <td>322422</td>\n",
       "      <td>22688</td>\n",
       "      <td>14.211125</td>\n",
       "    </tr>\n",
       "    <tr>\n",
       "      <th>5</th>\n",
       "      <td>Harry Potter and The Half-Blood Prince</td>\n",
       "      <td>Harry Potter and The Half-Blood Prince  Chapte...</td>\n",
       "      <td>991870</td>\n",
       "      <td>217802</td>\n",
       "      <td>13733</td>\n",
       "      <td>15.859754</td>\n",
       "    </tr>\n",
       "    <tr>\n",
       "      <th>6</th>\n",
       "      <td>Harry Potter and the Deathly Hallows</td>\n",
       "      <td>Harry Potter and the Deathly Hallows  By J. K....</td>\n",
       "      <td>1161885</td>\n",
       "      <td>253196</td>\n",
       "      <td>13166</td>\n",
       "      <td>19.231050</td>\n",
       "    </tr>\n",
       "  </tbody>\n",
       "</table>\n",
       "</div>"
      ],
      "text/plain": [
       "                                        name  \\\n",
       "0      Harry Potter and the Sorcerer's Stone   \n",
       "1    Harry Potter and The Chamber of Secrets   \n",
       "2   Harry Potter and the Prisoner of Azkaban   \n",
       "3        Harry Potter and the Goblet of Fire   \n",
       "4  Harry Potter and the Order of the Phoenix   \n",
       "5     Harry Potter and The Half-Blood Prince   \n",
       "6       Harry Potter and the Deathly Hallows   \n",
       "\n",
       "                                           full_text  char_length  \\\n",
       "0  Harry Potter and the Sorcerer's Stone CHAPTER ...       437562   \n",
       "1   J . K . R O W L ! N G   HARRY   POTTER      /...       507952   \n",
       "2  Harry Potter and the Prisoner of Azkaban   by ...       615711   \n",
       "3  Harry Potter and the Goblet of Fire   By J.K. ...      1113443   \n",
       "4  Harry Potter and the Order of the Phoenix J K ...      1524926   \n",
       "5  Harry Potter and The Half-Blood Prince  Chapte...       991870   \n",
       "6  Harry Potter and the Deathly Hallows  By J. K....      1161885   \n",
       "\n",
       "   word_length  sentence_length  word_per_sentence  \n",
       "0        99030             6394          15.487957  \n",
       "1       112008             5446          20.567022  \n",
       "2       135029             8582          15.733978  \n",
       "3       243895            17521          13.920153  \n",
       "4       322422            22688          14.211125  \n",
       "5       217802            13733          15.859754  \n",
       "6       253196            13166          19.231050  "
      ]
     },
     "execution_count": 63,
     "metadata": {},
     "output_type": "execute_result"
    }
   ],
   "source": [
    "df"
   ]
  },
  {
   "cell_type": "markdown",
   "metadata": {},
   "source": [
    "### Step 10: Plot word_per_sentence with a barplot\n",
    "Next, let's plot the word_per_sentence with a barplot as well.\n",
    "\n",
    "This is a good plot since it gives a more balanced perspective on the metrics that we have observed so far. "
   ]
  },
  {
   "cell_type": "code",
   "execution_count": null,
   "metadata": {},
   "outputs": [],
   "source": [
    "# Step 10: Plot \"word_per_sentence\" with barplot"
   ]
  },
  {
   "cell_type": "code",
   "execution_count": 64,
   "metadata": {},
   "outputs": [
    {
     "data": {
      "image/png": "[encoded data removed]",
      "text/plain": [
       "<Figure size 1152x576 with 1 Axes>"
      ]
     },
     "metadata": {
      "needs_background": "light"
     },
     "output_type": "display_data"
    }
   ],
   "source": [
    "plt.figure(figsize=(16, 8))\n",
    "ax = df['word_per_sentence'].plot(kind='bar' ,rot=0)\n",
    "ax.set_title('Number of words per sentence vs book')\n",
    "ax.set_xlabel('Book Number')\n",
    "ax.set_ylabel('Number of words per sentence')\n",
    "ax.set_xticklabels(x_labels)\n",
    "plt.show()"
   ]
  },
  {
   "cell_type": "markdown",
   "metadata": {},
   "source": [
    "<details>\n",
    "    <summary><strong>Click once to see our plot</strong></summary>\n",
    "    <img src = \"https://uplevelsg.s3-ap-southeast-1.amazonaws.com/ProjectHarryPotter/WordPerSentenceBarplot.png\">\n",
    "</details>\n",
    "<br>\n",
    "<details>\n",
    "    <summary><strong>What do you notice about the writing length in the series? Click once to find out.</strong></summary>\n",
    "    <div>With the exception of the second and last book, the word per sentence in all books are written quite consistently, with more or less 14-15 words per sentence.</div>\n",
    "</details>"
   ]
  },
  {
   "cell_type": "markdown",
   "metadata": {},
   "source": [
    "### Step 11: Generate Dale-Chall score for the text\n",
    "Textstat is a handy library that can do that, more information in the documentation <a href=\"https://github.com/shivam5992/textstat\">here</a>.\n",
    "\n",
    "Let's work with a score named Dale-Chall readibility score. The score is based on a list of 3000 words that fourth-graders commonly understand, and any words not in that list is considered difficult.\n",
    "\n",
    "Bear in mind a few things:\n",
    "- the texts are in slightly different formats, and the metrics generated provide only rough estimates of the reability\n",
    "- the scores typically depend on the difficulty of words, and words that are foreign to the English language, e.g., spells, are foreign and are considered difficult words\n",
    "- the scores should not be taken on its own, but used to compare between texts instead\n",
    "\n",
    "We won't spend too much time with generating the metrics, but it's a good practice session for you. \n",
    "\n",
    "More readings on Wikipedia: https://en.wikipedia.org/wiki/Dale%E2%80%93Chall_readability_formula"
   ]
  },
  {
   "cell_type": "code",
   "execution_count": null,
   "metadata": {},
   "outputs": [],
   "source": [
    "# Step 11: Generate the Dale-Chall score for the text"
   ]
  },
  {
   "cell_type": "code",
   "execution_count": 75,
   "metadata": {},
   "outputs": [
    {
     "data": {
      "text/plain": [
       "1.49"
      ]
     },
     "execution_count": 75,
     "metadata": {},
     "output_type": "execute_result"
    }
   ],
   "source": [
    "textstat.dale_chall_readability_score(df['full_text'][0])"
   ]
  },
  {
   "cell_type": "code",
   "execution_count": 80,
   "metadata": {},
   "outputs": [
    {
     "name": "stdout",
     "output_type": "stream",
     "text": [
      "1.49\n",
      "2.43\n",
      "2.01\n",
      "1.97\n",
      "2.53\n",
      "2.22\n",
      "2.24\n"
     ]
    }
   ],
   "source": [
    "for index, row in df.iterrows():\n",
    "    print(textstat.dale_chall_readability_score(df['full_text'][index]))"
   ]
  },
  {
   "cell_type": "markdown",
   "metadata": {},
   "source": [
    "<details>\n",
    "    <summary><strong>What do you observe about the Dale-Chall score of the series? Click once to see what we think</strong></summary>\n",
    "    <div>The scores should be around 2, making the series are pretty good book for 4th graders and below. That would be around 9-10 years of age. It also seems like Book 5 is relatively the hardest to read as well, based on the scores!/div>\n",
    "</details>"
   ]
  },
  {
   "cell_type": "markdown",
   "metadata": {},
   "source": [
    "### Step 12: Count the number of exclamation marks\n",
    "Characters in the series have a penchant for exclamation, so let's count the number of exclamation marks there are in the series.\n",
    "\n",
    "![ExclamationCountColumn](https://uplevelsg.s3-ap-southeast-1.amazonaws.com/ProjectHarryPotter/ExclamationCountColumn.png)\n",
    "\n",
    "Loop through each text, and in each text count the number of \"!\"."
   ]
  },
  {
   "cell_type": "markdown",
   "metadata": {},
   "source": [
    "<details>\n",
    "    <summary><strong>Click once for hint</strong></summary>\n",
    "    <div>Google \"program to count the total number of punctuation characters exists in a string\"</div>\n",
    "</details>"
   ]
  },
  {
   "cell_type": "code",
   "execution_count": null,
   "metadata": {},
   "outputs": [],
   "source": [
    "# Step 12: Count exclamation markes in texts"
   ]
  },
  {
   "cell_type": "code",
   "execution_count": 85,
   "metadata": {},
   "outputs": [],
   "source": [
    "sub = \"!\";\n",
    "df['exclamation_count']=df['full_text'].str.count(sub)"
   ]
  },
  {
   "cell_type": "code",
   "execution_count": 86,
   "metadata": {},
   "outputs": [
    {
     "data": {
      "text/html": [
       "<div>\n",
       "<style scoped>\n",
       "    .dataframe tbody tr th:only-of-type {\n",
       "        vertical-align: middle;\n",
       "    }\n",
       "\n",
       "    .dataframe tbody tr th {\n",
       "        vertical-align: top;\n",
       "    }\n",
       "\n",
       "    .dataframe thead th {\n",
       "        text-align: right;\n",
       "    }\n",
       "</style>\n",
       "<table border=\"1\" class=\"dataframe\">\n",
       "  <thead>\n",
       "    <tr style=\"text-align: right;\">\n",
       "      <th></th>\n",
       "      <th>name</th>\n",
       "      <th>full_text</th>\n",
       "      <th>char_length</th>\n",
       "      <th>word_length</th>\n",
       "      <th>sentence_length</th>\n",
       "      <th>word_per_sentence</th>\n",
       "      <th>exclamation_count</th>\n",
       "    </tr>\n",
       "  </thead>\n",
       "  <tbody>\n",
       "    <tr>\n",
       "      <th>0</th>\n",
       "      <td>Harry Potter and the Sorcerer's Stone</td>\n",
       "      <td>Harry Potter and the Sorcerer's Stone CHAPTER ...</td>\n",
       "      <td>437562</td>\n",
       "      <td>99030</td>\n",
       "      <td>6394</td>\n",
       "      <td>15.487957</td>\n",
       "      <td>474</td>\n",
       "    </tr>\n",
       "    <tr>\n",
       "      <th>1</th>\n",
       "      <td>Harry Potter and The Chamber of Secrets</td>\n",
       "      <td>J . K . R O W L ! N G   HARRY   POTTER      /...</td>\n",
       "      <td>507952</td>\n",
       "      <td>112008</td>\n",
       "      <td>5446</td>\n",
       "      <td>20.567022</td>\n",
       "      <td>498</td>\n",
       "    </tr>\n",
       "    <tr>\n",
       "      <th>2</th>\n",
       "      <td>Harry Potter and the Prisoner of Azkaban</td>\n",
       "      <td>Harry Potter and the Prisoner of Azkaban   by ...</td>\n",
       "      <td>615711</td>\n",
       "      <td>135029</td>\n",
       "      <td>8582</td>\n",
       "      <td>15.733978</td>\n",
       "      <td>1012</td>\n",
       "    </tr>\n",
       "    <tr>\n",
       "      <th>3</th>\n",
       "      <td>Harry Potter and the Goblet of Fire</td>\n",
       "      <td>Harry Potter and the Goblet of Fire   By J.K. ...</td>\n",
       "      <td>1113443</td>\n",
       "      <td>243895</td>\n",
       "      <td>17521</td>\n",
       "      <td>13.920153</td>\n",
       "      <td>1391</td>\n",
       "    </tr>\n",
       "    <tr>\n",
       "      <th>4</th>\n",
       "      <td>Harry Potter and the Order of the Phoenix</td>\n",
       "      <td>Harry Potter and the Order of the Phoenix J K ...</td>\n",
       "      <td>1524926</td>\n",
       "      <td>322422</td>\n",
       "      <td>22688</td>\n",
       "      <td>14.211125</td>\n",
       "      <td>1562</td>\n",
       "    </tr>\n",
       "    <tr>\n",
       "      <th>5</th>\n",
       "      <td>Harry Potter and The Half-Blood Prince</td>\n",
       "      <td>Harry Potter and The Half-Blood Prince  Chapte...</td>\n",
       "      <td>991870</td>\n",
       "      <td>217802</td>\n",
       "      <td>13733</td>\n",
       "      <td>15.859754</td>\n",
       "      <td>1066</td>\n",
       "    </tr>\n",
       "    <tr>\n",
       "      <th>6</th>\n",
       "      <td>Harry Potter and the Deathly Hallows</td>\n",
       "      <td>Harry Potter and the Deathly Hallows  By J. K....</td>\n",
       "      <td>1161885</td>\n",
       "      <td>253196</td>\n",
       "      <td>13166</td>\n",
       "      <td>19.231050</td>\n",
       "      <td>1540</td>\n",
       "    </tr>\n",
       "  </tbody>\n",
       "</table>\n",
       "</div>"
      ],
      "text/plain": [
       "                                        name  \\\n",
       "0      Harry Potter and the Sorcerer's Stone   \n",
       "1    Harry Potter and The Chamber of Secrets   \n",
       "2   Harry Potter and the Prisoner of Azkaban   \n",
       "3        Harry Potter and the Goblet of Fire   \n",
       "4  Harry Potter and the Order of the Phoenix   \n",
       "5     Harry Potter and The Half-Blood Prince   \n",
       "6       Harry Potter and the Deathly Hallows   \n",
       "\n",
       "                                           full_text  char_length  \\\n",
       "0  Harry Potter and the Sorcerer's Stone CHAPTER ...       437562   \n",
       "1   J . K . R O W L ! N G   HARRY   POTTER      /...       507952   \n",
       "2  Harry Potter and the Prisoner of Azkaban   by ...       615711   \n",
       "3  Harry Potter and the Goblet of Fire   By J.K. ...      1113443   \n",
       "4  Harry Potter and the Order of the Phoenix J K ...      1524926   \n",
       "5  Harry Potter and The Half-Blood Prince  Chapte...       991870   \n",
       "6  Harry Potter and the Deathly Hallows  By J. K....      1161885   \n",
       "\n",
       "   word_length  sentence_length  word_per_sentence  exclamation_count  \n",
       "0        99030             6394          15.487957                474  \n",
       "1       112008             5446          20.567022                498  \n",
       "2       135029             8582          15.733978               1012  \n",
       "3       243895            17521          13.920153               1391  \n",
       "4       322422            22688          14.211125               1562  \n",
       "5       217802            13733          15.859754               1066  \n",
       "6       253196            13166          19.231050               1540  "
      ]
     },
     "execution_count": 86,
     "metadata": {},
     "output_type": "execute_result"
    }
   ],
   "source": [
    "df"
   ]
  },
  {
   "cell_type": "markdown",
   "metadata": {},
   "source": [
    "### Step 13: Create \"sentence_per_exclamation\"\n",
    "As we have seen, ratio is more important than the absolute values. As such, let's create a column called \"sentence_per_exclamation\", where \n",
    "\n",
    "$sentence\\_per\\_exclamation = sentence\\_length \\div exclamation\\_count$\n",
    "\n",
    "How does this metric work? The lower the ratio, the more often characters use an exclamation mark in their speech, e.g., for surprise, yelling, etc."
   ]
  },
  {
   "cell_type": "code",
   "execution_count": null,
   "metadata": {},
   "outputs": [],
   "source": [
    "# Step 13: Create \"sentence_per_exclamation\""
   ]
  },
  {
   "cell_type": "code",
   "execution_count": 87,
   "metadata": {},
   "outputs": [],
   "source": [
    "df['sentence_per_exclamation']=df['sentence_length']/df['exclamation_count']"
   ]
  },
  {
   "cell_type": "markdown",
   "metadata": {},
   "source": [
    "### Step 14: Plot \"sentence_per_exclamation\"\n",
    "Use a barplot to plot the ratio, and see which series exclaims the most."
   ]
  },
  {
   "cell_type": "code",
   "execution_count": null,
   "metadata": {},
   "outputs": [],
   "source": [
    "# Step 14: Plot sentence_per_exclamation with a barplot"
   ]
  },
  {
   "cell_type": "code",
   "execution_count": 88,
   "metadata": {},
   "outputs": [
    {
     "data": {
      "image/png": "[encoded data removed]",
      "text/plain": [
       "<Figure size 1152x576 with 1 Axes>"
      ]
     },
     "metadata": {
      "needs_background": "light"
     },
     "output_type": "display_data"
    }
   ],
   "source": [
    "plt.figure(figsize=(16, 8))\n",
    "ax = df['sentence_per_exclamation'].plot(kind='bar' ,rot=0)\n",
    "ax.set_title('Number of sentences per exclamation mark  vs books')\n",
    "ax.set_xlabel('Book Number')\n",
    "ax.set_ylabel('Sentences per exclamation mark')\n",
    "ax.set_xticklabels(x_labels)\n",
    "plt.show()"
   ]
  },
  {
   "cell_type": "markdown",
   "metadata": {},
   "source": [
    "<details>\n",
    "    <summary><strong>Click once to see our plot, and hear what we think</strong></summary>\n",
    "    <img src=\"https://uplevelsg.s3-ap-southeast-1.amazonaws.com/ProjectHarryPotter/SentencePerExclamationBarplot.png\">\n",
    "    <br>\n",
    "    <div>Looks like there is a lot of yelling in Book 3 and Book 7. Makes sense for Book 7, since the book is the final in the series and contains the climax of the conflict between good and evil.</div>\n",
    "</details>"
   ]
  },
  {
   "cell_type": "markdown",
   "metadata": {},
   "source": [
    "### End of Part II\n",
    "You're done with Part II! To recap, in this part you:\n",
    "- Generated quantitative metrics for text\n",
    "- Plotted the metrics for visualization and comparison\n",
    "\n",
    "In the next Part, you'll perform sentiment analysis on the text in the series."
   ]
  }
 ],
 "metadata": {
  "kernelspec": {
   "display_name": "Python 3",
   "language": "python",
   "name": "python3"
  },
  "language_info": {
   "codemirror_mode": {
    "name": "ipython",
    "version": 3
   },
   "file_extension": ".py",
   "mimetype": "text/x-python",
   "name": "python",
   "nbconvert_exporter": "python",
   "pygments_lexer": "ipython3",
   "version": "3.8.5"
  }
 },
 "nbformat": 4,
 "nbformat_minor": 4
}
